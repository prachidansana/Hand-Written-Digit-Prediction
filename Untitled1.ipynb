{
 "cells": [
  {
   "cell_type": "markdown",
   "id": "925c76d4-96bf-4e08-8cd8-00dd158ecf9c",
   "metadata": {},
   "source": [
    "Hand Written Digit Prediction- Classification Analysis"
   ]
  },
  {
   "cell_type": "markdown",
   "id": "d988871c-7de7-420a-9dc8-32033e9cecb6",
   "metadata": {},
   "source": [
    "Import Library"
   ]
  },
  {
   "cell_type": "code",
   "execution_count": 1,
   "id": "e55411fd-248c-45d8-956d-b357800e2f9c",
   "metadata": {},
   "outputs": [],
   "source": [
    "import pandas as pd"
   ]
  },
  {
   "cell_type": "code",
   "execution_count": 2,
   "id": "d9f5d9ca-8ed0-4978-bb28-864e08f0eb65",
   "metadata": {},
   "outputs": [],
   "source": [
    "import numpy as np"
   ]
  },
  {
   "cell_type": "code",
   "execution_count": 3,
   "id": "d4bea4c3-9bc5-4907-b6af-fbc098652056",
   "metadata": {},
   "outputs": [],
   "source": [
    "import matplotlib.pyplot as plt"
   ]
  },
  {
   "cell_type": "markdown",
   "id": "8157ee2f-c058-4e83-8ac0-75cb0d03ab5a",
   "metadata": {},
   "source": [
    "Import data"
   ]
  },
  {
   "cell_type": "code",
   "execution_count": 4,
   "id": "979242eb-d36c-4593-923c-b155f4ad8f2f",
   "metadata": {},
   "outputs": [],
   "source": [
    "from sklearn.datasets import load_digits"
   ]
  },
  {
   "cell_type": "code",
   "execution_count": 6,
   "id": "77897974-7389-499e-8a0b-5d1e2370e61f",
   "metadata": {},
   "outputs": [],
   "source": [
    "df= load_digits()"
   ]
  },
  {
   "cell_type": "code",
   "execution_count": 8,
   "id": "d91df097-d847-4ff2-b295-67b40cb6688f",
   "metadata": {},
   "outputs": [
    {
     "data": {
      "image/png": "[encoded data removed]",
      "text/plain": [
       "<Figure size 1000x300 with 4 Axes>"
      ]
     },
     "metadata": {},
     "output_type": "display_data"
    }
   ],
   "source": [
    "_, axes = plt.subplots(nrows=1,ncols=4,figsize=(10,3))\n",
    "for ax, image, label in zip(axes, df.images, df.target):\n",
    "    ax.set_axis_off()\n",
    "    ax.imshow(image, cmap=plt.cm.gray_r, interpolation=\"nearest\")\n",
    "    ax.set_title(\"Training: %i\" %label)\n",
    "        "
   ]
  },
  {
   "cell_type": "markdown",
   "id": "b81f73c9-4402-4641-b147-e36a7d5a93c9",
   "metadata": {},
   "source": [
    "Data Preprocessing"
   ]
  },
  {
   "cell_type": "code",
   "execution_count": 9,
   "id": "7349a2e5-ab56-45a8-83f9-a8c820e1b7fd",
   "metadata": {},
   "outputs": [
    {
     "data": {
      "text/plain": [
       "(1797, 8, 8)"
      ]
     },
     "execution_count": 9,
     "metadata": {},
     "output_type": "execute_result"
    }
   ],
   "source": [
    "df.images.shape"
   ]
  },
  {
   "cell_type": "code",
   "execution_count": 11,
   "id": "536f161f-1982-4ad1-9f18-cb896f8ce70b",
   "metadata": {},
   "outputs": [
    {
     "data": {
      "text/plain": [
       "array([[ 0.,  0.,  5., 13.,  9.,  1.,  0.,  0.],\n",
       "       [ 0.,  0., 13., 15., 10., 15.,  5.,  0.],\n",
       "       [ 0.,  3., 15.,  2.,  0., 11.,  8.,  0.],\n",
       "       [ 0.,  4., 12.,  0.,  0.,  8.,  8.,  0.],\n",
       "       [ 0.,  5.,  8.,  0.,  0.,  9.,  8.,  0.],\n",
       "       [ 0.,  4., 11.,  0.,  1., 12.,  7.,  0.],\n",
       "       [ 0.,  2., 14.,  5., 10., 12.,  0.,  0.],\n",
       "       [ 0.,  0.,  6., 13., 10.,  0.,  0.,  0.]])"
      ]
     },
     "execution_count": 11,
     "metadata": {},
     "output_type": "execute_result"
    }
   ],
   "source": [
    "df.images[0]"
   ]
  },
  {
   "cell_type": "code",
   "execution_count": 12,
   "id": "50c90c06-993b-4d19-a5ba-567cae29d754",
   "metadata": {},
   "outputs": [
    {
     "data": {
      "text/plain": [
       "(8, 8)"
      ]
     },
     "execution_count": 12,
     "metadata": {},
     "output_type": "execute_result"
    }
   ],
   "source": [
    "df.images[0].shape"
   ]
  },
  {
   "cell_type": "code",
   "execution_count": 13,
   "id": "1f02fe5c-88a9-4cae-b2f5-1320d63f4be7",
   "metadata": {},
   "outputs": [
    {
     "data": {
      "text/plain": [
       "1797"
      ]
     },
     "execution_count": 13,
     "metadata": {},
     "output_type": "execute_result"
    }
   ],
   "source": [
    "len(df.images)"
   ]
  },
  {
   "cell_type": "code",
   "execution_count": 16,
   "id": "942f791d-3c02-4579-95de-dbd22307253e",
   "metadata": {},
   "outputs": [],
   "source": [
    "n_samples = len(df.images)\n",
    "data= df.images.reshape((n_samples,-1))"
   ]
  },
  {
   "cell_type": "code",
   "execution_count": 17,
   "id": "36a9052a-12be-4b71-8cfe-27c17c76d2e0",
   "metadata": {},
   "outputs": [
    {
     "data": {
      "text/plain": [
       "array([ 0.,  0.,  5., 13.,  9.,  1.,  0.,  0.,  0.,  0., 13., 15., 10.,\n",
       "       15.,  5.,  0.,  0.,  3., 15.,  2.,  0., 11.,  8.,  0.,  0.,  4.,\n",
       "       12.,  0.,  0.,  8.,  8.,  0.,  0.,  5.,  8.,  0.,  0.,  9.,  8.,\n",
       "        0.,  0.,  4., 11.,  0.,  1., 12.,  7.,  0.,  0.,  2., 14.,  5.,\n",
       "       10., 12.,  0.,  0.,  0.,  0.,  6., 13., 10.,  0.,  0.,  0.])"
      ]
     },
     "execution_count": 17,
     "metadata": {},
     "output_type": "execute_result"
    }
   ],
   "source": [
    "data[0]"
   ]
  },
  {
   "cell_type": "code",
   "execution_count": 18,
   "id": "d8624a50-4ce7-48bc-b8b2-c19192e1dde2",
   "metadata": {},
   "outputs": [
    {
     "data": {
      "text/plain": [
       "(64,)"
      ]
     },
     "execution_count": 18,
     "metadata": {},
     "output_type": "execute_result"
    }
   ],
   "source": [
    "data[0].shape"
   ]
  },
  {
   "cell_type": "code",
   "execution_count": 19,
   "id": "c29eb9d4-6175-4a5d-b59b-d58519c6c9a8",
   "metadata": {},
   "outputs": [
    {
     "data": {
      "text/plain": [
       "(1797, 64)"
      ]
     },
     "execution_count": 19,
     "metadata": {},
     "output_type": "execute_result"
    }
   ],
   "source": [
    "data.shape"
   ]
  },
  {
   "cell_type": "markdown",
   "id": "fb9d61a1-9c4b-4c89-a903-f6219282a52d",
   "metadata": {},
   "source": [
    "Scaling Image Data"
   ]
  },
  {
   "cell_type": "code",
   "execution_count": 20,
   "id": "dddc42e7-3bba-4cdc-8a46-9fb70039316c",
   "metadata": {},
   "outputs": [
    {
     "data": {
      "text/plain": [
       "0.0"
      ]
     },
     "execution_count": 20,
     "metadata": {},
     "output_type": "execute_result"
    }
   ],
   "source": [
    "data.min()"
   ]
  },
  {
   "cell_type": "code",
   "execution_count": 21,
   "id": "31bb47c5-10c9-4228-bd84-ef378d7139a2",
   "metadata": {},
   "outputs": [
    {
     "data": {
      "text/plain": [
       "16.0"
      ]
     },
     "execution_count": 21,
     "metadata": {},
     "output_type": "execute_result"
    }
   ],
   "source": [
    "data.max()"
   ]
  },
  {
   "cell_type": "code",
   "execution_count": 22,
   "id": "d8b5e74c-de10-4cd3-b493-8de3c5f1c530",
   "metadata": {},
   "outputs": [],
   "source": [
    "data=data/16"
   ]
  },
  {
   "cell_type": "code",
   "execution_count": 23,
   "id": "a517d613-9b09-4251-9dd7-09eeb1a46211",
   "metadata": {},
   "outputs": [
    {
     "data": {
      "text/plain": [
       "0.0"
      ]
     },
     "execution_count": 23,
     "metadata": {},
     "output_type": "execute_result"
    }
   ],
   "source": [
    "data.min()"
   ]
  },
  {
   "cell_type": "code",
   "execution_count": 24,
   "id": "e9752537-0f35-4052-a2e7-c20a604a88eb",
   "metadata": {},
   "outputs": [
    {
     "data": {
      "text/plain": [
       "1.0"
      ]
     },
     "execution_count": 24,
     "metadata": {},
     "output_type": "execute_result"
    }
   ],
   "source": [
    "data.max()"
   ]
  },
  {
   "cell_type": "code",
   "execution_count": 25,
   "id": "a1923b66-bdc8-44f0-ac88-140b8fc722d9",
   "metadata": {},
   "outputs": [
    {
     "data": {
      "text/plain": [
       "array([0.    , 0.    , 0.3125, 0.8125, 0.5625, 0.0625, 0.    , 0.    ,\n",
       "       0.    , 0.    , 0.8125, 0.9375, 0.625 , 0.9375, 0.3125, 0.    ,\n",
       "       0.    , 0.1875, 0.9375, 0.125 , 0.    , 0.6875, 0.5   , 0.    ,\n",
       "       0.    , 0.25  , 0.75  , 0.    , 0.    , 0.5   , 0.5   , 0.    ,\n",
       "       0.    , 0.3125, 0.5   , 0.    , 0.    , 0.5625, 0.5   , 0.    ,\n",
       "       0.    , 0.25  , 0.6875, 0.    , 0.0625, 0.75  , 0.4375, 0.    ,\n",
       "       0.    , 0.125 , 0.875 , 0.3125, 0.625 , 0.75  , 0.    , 0.    ,\n",
       "       0.    , 0.    , 0.375 , 0.8125, 0.625 , 0.    , 0.    , 0.    ])"
      ]
     },
     "execution_count": 25,
     "metadata": {},
     "output_type": "execute_result"
    }
   ],
   "source": [
    "data[0]"
   ]
  },
  {
   "cell_type": "markdown",
   "id": "e52d9a4d-dd40-4ae2-a01a-3c47b578560e",
   "metadata": {},
   "source": [
    "Train Test Split Data"
   ]
  },
  {
   "cell_type": "code",
   "execution_count": 26,
   "id": "1ac82ec7-41b0-4c7e-9553-496dbd80060a",
   "metadata": {},
   "outputs": [],
   "source": [
    "from sklearn.model_selection import train_test_split"
   ]
  },
  {
   "cell_type": "code",
   "execution_count": 27,
   "id": "66ea6f0f-42ca-4074-9bfa-1c07c14eca8e",
   "metadata": {},
   "outputs": [],
   "source": [
    "X_train, X_test , y_train, y_test = train_test_split(data, df.target, test_size= 0.3)"
   ]
  },
  {
   "cell_type": "code",
   "execution_count": 28,
   "id": "fbb84a19-5823-4711-961b-6e594b7e25cf",
   "metadata": {},
   "outputs": [
    {
     "data": {
      "text/plain": [
       "((1257, 64), (540, 64), (1257,), (540,))"
      ]
     },
     "execution_count": 28,
     "metadata": {},
     "output_type": "execute_result"
    }
   ],
   "source": [
    "X_train.shape , X_test.shape , y_train.shape , y_test.shape"
   ]
  },
  {
   "cell_type": "markdown",
   "id": "bf874e4b-50b0-4dac-b7cb-3a796638042a",
   "metadata": {},
   "source": [
    "Random Forest Model"
   ]
  },
  {
   "cell_type": "code",
   "execution_count": 30,
   "id": "7b78f961-0177-473f-9ed5-71b89b667f8d",
   "metadata": {},
   "outputs": [],
   "source": [
    "from sklearn.ensemble import RandomForestClassifier"
   ]
  },
  {
   "cell_type": "code",
   "execution_count": 31,
   "id": "118db22f-a24f-4e2d-a52a-5327d7463f79",
   "metadata": {},
   "outputs": [],
   "source": [
    "rf= RandomForestClassifier()"
   ]
  },
  {
   "cell_type": "code",
   "execution_count": 32,
   "id": "81100a8c-01e8-479f-b106-db662877fda3",
   "metadata": {},
   "outputs": [
    {
     "data": {
      "text/html": [
       "<style>#sk-container-id-1 {color: black;background-color: white;}#sk-container-id-1 pre{padding: 0;}#sk-container-id-1 div.sk-toggleable {background-color: white;}#sk-container-id-1 label.sk-toggleable__label {cursor: pointer;display: block;width: 100%;margin-bottom: 0;padding: 0.3em;box-sizing: border-box;text-align: center;}#sk-container-id-1 label.sk-toggleable__label-arrow:before {content: \"▸\";float: left;margin-right: 0.25em;color: #696969;}#sk-container-id-1 label.sk-toggleable__label-arrow:hover:before {color: black;}#sk-container-id-1 div.sk-estimator:hover label.sk-toggleable__label-arrow:before {color: black;}#sk-container-id-1 div.sk-toggleable__content {max-height: 0;max-width: 0;overflow: hidden;text-align: left;background-color: #f0f8ff;}#sk-container-id-1 div.sk-toggleable__content pre {margin: 0.2em;color: black;border-radius: 0.25em;background-color: #f0f8ff;}#sk-container-id-1 input.sk-toggleable__control:checked~div.sk-toggleable__content {max-height: 200px;max-width: 100%;overflow: auto;}#sk-container-id-1 input.sk-toggleable__control:checked~label.sk-toggleable__label-arrow:before {content: \"▾\";}#sk-container-id-1 div.sk-estimator input.sk-toggleable__control:checked~label.sk-toggleable__label {background-color: #d4ebff;}#sk-container-id-1 div.sk-label input.sk-toggleable__control:checked~label.sk-toggleable__label {background-color: #d4ebff;}#sk-container-id-1 input.sk-hidden--visually {border: 0;clip: rect(1px 1px 1px 1px);clip: rect(1px, 1px, 1px, 1px);height: 1px;margin: -1px;overflow: hidden;padding: 0;position: absolute;width: 1px;}#sk-container-id-1 div.sk-estimator {font-family: monospace;background-color: #f0f8ff;border: 1px dotted black;border-radius: 0.25em;box-sizing: border-box;margin-bottom: 0.5em;}#sk-container-id-1 div.sk-estimator:hover {background-color: #d4ebff;}#sk-container-id-1 div.sk-parallel-item::after {content: \"\";width: 100%;border-bottom: 1px solid gray;flex-grow: 1;}#sk-container-id-1 div.sk-label:hover label.sk-toggleable__label {background-color: #d4ebff;}#sk-container-id-1 div.sk-serial::before {content: \"\";position: absolute;border-left: 1px solid gray;box-sizing: border-box;top: 0;bottom: 0;left: 50%;z-index: 0;}#sk-container-id-1 div.sk-serial {display: flex;flex-direction: column;align-items: center;background-color: white;padding-right: 0.2em;padding-left: 0.2em;position: relative;}#sk-container-id-1 div.sk-item {position: relative;z-index: 1;}#sk-container-id-1 div.sk-parallel {display: flex;align-items: stretch;justify-content: center;background-color: white;position: relative;}#sk-container-id-1 div.sk-item::before, #sk-container-id-1 div.sk-parallel-item::before {content: \"\";position: absolute;border-left: 1px solid gray;box-sizing: border-box;top: 0;bottom: 0;left: 50%;z-index: -1;}#sk-container-id-1 div.sk-parallel-item {display: flex;flex-direction: column;z-index: 1;position: relative;background-color: white;}#sk-container-id-1 div.sk-parallel-item:first-child::after {align-self: flex-end;width: 50%;}#sk-container-id-1 div.sk-parallel-item:last-child::after {align-self: flex-start;width: 50%;}#sk-container-id-1 div.sk-parallel-item:only-child::after {width: 0;}#sk-container-id-1 div.sk-dashed-wrapped {border: 1px dashed gray;margin: 0 0.4em 0.5em 0.4em;box-sizing: border-box;padding-bottom: 0.4em;background-color: white;}#sk-container-id-1 div.sk-label label {font-family: monospace;font-weight: bold;display: inline-block;line-height: 1.2em;}#sk-container-id-1 div.sk-label-container {text-align: center;}#sk-container-id-1 div.sk-container {/* jupyter's `normalize.less` sets `[hidden] { display: none; }` but bootstrap.min.css set `[hidden] { display: none !important; }` so we also need the `!important` here to be able to override the default hidden behavior on the sphinx rendered scikit-learn.org. See: https://github.com/scikit-learn/scikit-learn/issues/21755 */display: inline-block !important;position: relative;}#sk-container-id-1 div.sk-text-repr-fallback {display: none;}</style><div id=\"sk-container-id-1\" class=\"sk-top-container\"><div class=\"sk-text-repr-fallback\"><pre>RandomForestClassifier()</pre><b>In a Jupyter environment, please rerun this cell to show the HTML representation or trust the notebook. <br />On GitHub, the HTML representation is unable to render, please try loading this page with nbviewer.org.</b></div><div class=\"sk-container\" hidden><div class=\"sk-item\"><div class=\"sk-estimator sk-toggleable\"><input class=\"sk-toggleable__control sk-hidden--visually\" id=\"sk-estimator-id-1\" type=\"checkbox\" checked><label for=\"sk-estimator-id-1\" class=\"sk-toggleable__label sk-toggleable__label-arrow\">RandomForestClassifier</label><div class=\"sk-toggleable__content\"><pre>RandomForestClassifier()</pre></div></div></div></div></div>"
      ],
      "text/plain": [
       "RandomForestClassifier()"
      ]
     },
     "execution_count": 32,
     "metadata": {},
     "output_type": "execute_result"
    }
   ],
   "source": [
    "rf.fit(X_train,y_train)"
   ]
  },
  {
   "cell_type": "code",
   "execution_count": 33,
   "id": "43532174-67bf-4c8c-813e-dc238db3a310",
   "metadata": {},
   "outputs": [],
   "source": [
    "y_pred = rf.predict(X_test)"
   ]
  },
  {
   "cell_type": "code",
   "execution_count": 34,
   "id": "b52ccbab-9b7e-4cbc-a804-f51a266359cd",
   "metadata": {},
   "outputs": [
    {
     "data": {
      "text/plain": [
       "array([2, 3, 5, 0, 9, 0, 1, 8, 0, 3, 9, 5, 9, 7, 7, 5, 2, 7, 4, 6, 4, 9,\n",
       "       7, 0, 7, 9, 3, 0, 0, 8, 4, 8, 3, 0, 2, 2, 1, 0, 9, 8, 8, 5, 1, 1,\n",
       "       1, 9, 1, 7, 0, 1, 4, 0, 7, 3, 4, 7, 2, 7, 2, 4, 9, 0, 2, 9, 2, 2,\n",
       "       6, 5, 1, 8, 9, 6, 7, 4, 1, 6, 9, 1, 1, 7, 7, 0, 6, 6, 2, 6, 5, 7,\n",
       "       2, 7, 7, 9, 9, 1, 2, 8, 2, 8, 7, 8, 9, 5, 5, 6, 2, 7, 2, 9, 7, 4,\n",
       "       6, 0, 0, 0, 9, 2, 6, 8, 5, 5, 9, 2, 9, 8, 8, 9, 2, 8, 4, 6, 2, 4,\n",
       "       2, 2, 4, 8, 8, 9, 5, 8, 4, 4, 1, 3, 0, 5, 2, 4, 3, 2, 0, 2, 8, 1,\n",
       "       7, 5, 2, 1, 2, 2, 5, 3, 6, 7, 4, 6, 1, 0, 5, 4, 3, 7, 6, 0, 5, 5,\n",
       "       1, 7, 3, 6, 6, 7, 2, 2, 8, 6, 5, 3, 0, 2, 8, 4, 1, 3, 5, 9, 8, 4,\n",
       "       1, 8, 3, 8, 1, 5, 8, 0, 9, 9, 9, 4, 2, 7, 9, 2, 7, 8, 5, 6, 3, 3,\n",
       "       1, 6, 3, 9, 3, 3, 3, 3, 1, 8, 9, 9, 5, 8, 0, 0, 2, 9, 4, 4, 1, 6,\n",
       "       2, 0, 6, 4, 2, 3, 0, 9, 4, 2, 3, 8, 7, 5, 7, 6, 0, 1, 8, 8, 5, 2,\n",
       "       8, 2, 4, 3, 1, 0, 1, 7, 3, 0, 7, 5, 2, 9, 9, 4, 3, 5, 4, 9, 5, 3,\n",
       "       0, 8, 6, 0, 4, 5, 6, 6, 0, 0, 9, 4, 4, 7, 2, 1, 5, 5, 0, 2, 5, 4,\n",
       "       9, 5, 6, 6, 2, 4, 6, 8, 4, 9, 9, 6, 1, 7, 0, 5, 2, 2, 1, 0, 3, 7,\n",
       "       3, 8, 0, 7, 4, 1, 7, 5, 4, 9, 9, 9, 3, 4, 1, 5, 5, 8, 1, 4, 7, 4,\n",
       "       0, 7, 9, 6, 0, 2, 0, 6, 5, 5, 6, 1, 2, 0, 3, 3, 6, 4, 3, 3, 6, 3,\n",
       "       8, 7, 8, 9, 6, 1, 4, 3, 7, 1, 7, 7, 4, 4, 3, 4, 6, 1, 6, 0, 4, 0,\n",
       "       0, 2, 8, 6, 9, 1, 3, 0, 0, 2, 3, 1, 9, 7, 3, 6, 1, 5, 4, 3, 6, 6,\n",
       "       0, 1, 0, 8, 9, 4, 8, 6, 2, 7, 4, 8, 8, 4, 5, 5, 5, 6, 8, 1, 4, 0,\n",
       "       2, 3, 2, 5, 2, 9, 4, 0, 6, 1, 6, 0, 6, 9, 9, 2, 4, 3, 0, 1, 4, 4,\n",
       "       0, 5, 3, 7, 5, 5, 3, 2, 4, 3, 7, 8, 1, 9, 2, 5, 5, 1, 2, 9, 8, 7,\n",
       "       8, 7, 3, 8, 7, 6, 1, 6, 0, 3, 0, 8, 9, 8, 9, 4, 8, 0, 9, 2, 8, 3,\n",
       "       9, 2, 4, 9, 4, 6, 3, 5, 7, 9, 9, 4, 0, 2, 3, 4, 3, 2, 3, 1, 0, 7,\n",
       "       7, 2, 8, 3, 6, 8, 7, 8, 0, 2, 2, 6])"
      ]
     },
     "execution_count": 34,
     "metadata": {},
     "output_type": "execute_result"
    }
   ],
   "source": [
    "y_pred"
   ]
  },
  {
   "cell_type": "code",
   "execution_count": null,
   "id": "4f9d6de3-ea46-4eb5-9b65-27b97ae7faff",
   "metadata": {},
   "outputs": [],
   "source": [
    "Model Accuracy"
   ]
  },
  {
   "cell_type": "code",
   "execution_count": 35,
   "id": "a7add386-fe34-443d-97c2-4b7eefe31419",
   "metadata": {},
   "outputs": [],
   "source": [
    "from sklearn.metrics import confusion_matrix , classification_report"
   ]
  },
  {
   "cell_type": "code",
   "execution_count": 36,
   "id": "09c10d0b-d239-4a81-a41b-5870b8a4036e",
   "metadata": {},
   "outputs": [
    {
     "data": {
      "text/plain": [
       "array([[58,  0,  0,  0,  2,  0,  0,  0,  0,  0],\n",
       "       [ 0, 44,  0,  0,  0,  0,  0,  0,  0,  0],\n",
       "       [ 0,  1, 62,  0,  0,  0,  0,  0,  1,  0],\n",
       "       [ 0,  0,  0, 51,  0,  0,  0,  0,  2,  0],\n",
       "       [ 0,  0,  0,  0, 55,  0,  0,  0,  0,  1],\n",
       "       [ 0,  0,  0,  0,  0, 48,  0,  0,  0,  2],\n",
       "       [ 0,  0,  0,  0,  0,  1, 51,  0,  0,  0],\n",
       "       [ 0,  0,  0,  0,  1,  0,  0, 50,  0,  0],\n",
       "       [ 0,  1,  1,  1,  0,  0,  0,  0, 49,  1],\n",
       "       [ 0,  1,  0,  1,  0,  0,  0,  1,  1, 53]], dtype=int64)"
      ]
     },
     "execution_count": 36,
     "metadata": {},
     "output_type": "execute_result"
    }
   ],
   "source": [
    "confusion_matrix(y_test,y_pred)"
   ]
  },
  {
   "cell_type": "code",
   "execution_count": 37,
   "id": "014c51c6-978e-4940-a9ab-545b6c47cbe1",
   "metadata": {},
   "outputs": [
    {
     "name": "stdout",
     "output_type": "stream",
     "text": [
      "              precision    recall  f1-score   support\n",
      "\n",
      "           0       1.00      0.97      0.98        60\n",
      "           1       0.94      1.00      0.97        44\n",
      "           2       0.98      0.97      0.98        64\n",
      "           3       0.96      0.96      0.96        53\n",
      "           4       0.95      0.98      0.96        56\n",
      "           5       0.98      0.96      0.97        50\n",
      "           6       1.00      0.98      0.99        52\n",
      "           7       0.98      0.98      0.98        51\n",
      "           8       0.92      0.92      0.92        53\n",
      "           9       0.93      0.93      0.93        57\n",
      "\n",
      "    accuracy                           0.96       540\n",
      "   macro avg       0.96      0.97      0.96       540\n",
      "weighted avg       0.97      0.96      0.96       540\n",
      "\n"
     ]
    }
   ],
   "source": [
    "print(classification_report(y_test,y_pred))"
   ]
  },
  {
   "cell_type": "code",
   "execution_count": null,
   "id": "a8133ab0-7dd9-4195-bab1-d1c3534e26a6",
   "metadata": {},
   "outputs": [],
   "source": []
  },
  {
   "cell_type": "code",
   "execution_count": null,
   "id": "c8591c2c-97ec-4727-8923-7dff5b06a679",
   "metadata": {},
   "outputs": [],
   "source": []
  },
  {
   "cell_type": "code",
   "execution_count": null,
   "id": "7d408e8a-7f17-4d51-883d-d24dbecd48b0",
   "metadata": {},
   "outputs": [],
   "source": []
  }
 ],
 "metadata": {
  "kernelspec": {
   "display_name": "Python 3 (ipykernel)",
   "language": "python",
   "name": "python3"
  },
  "language_info": {
   "codemirror_mode": {
    "name": "ipython",
    "version": 3
   },
   "file_extension": ".py",
   "mimetype": "text/x-python",
   "name": "python",
   "nbconvert_exporter": "python",
   "pygments_lexer": "ipython3",
   "version": "3.11.7"
  }
 },
 "nbformat": 4,
 "nbformat_minor": 5
}
